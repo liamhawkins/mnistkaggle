{
 "cells": [
  {
   "cell_type": "code",
   "execution_count": null,
   "metadata": {
    "collapsed": false,
    "deletable": true,
    "editable": true
   },
   "outputs": [],
   "source": [
    "# Imports and setting up some variables\n",
    "import tensorflow as tf\n",
    "import pandas as pd\n",
    "import numpy as np\n",
    "from sklearn.model_selection import train_test_split\n",
    "\n",
    "train_path = './data/train.csv'\n",
    "test_path = './data/test.csv'\n",
    "\n",
    "num_classes = 10\n",
    "\n",
    "image_width = 28\n",
    "image_height = 28\n",
    "image_pixels = image_width * image_height\n",
    "\n",
    "n_nodes_hl1 = 500\n",
    "n_nodes_hl2 = 500\n",
    "n_nodes_hl3 = 500\n",
    "\n",
    "batch_size = 100\n",
    "hm_epoch = 100\n",
    "LEARNING_RATE = 0.001\n",
    "\n",
    "x = tf.placeholder('float', [None, image_pixels])\n",
    "y = tf.placeholder('float', [None, num_classes])"
   ]
  },
  {
   "cell_type": "code",
   "execution_count": null,
   "metadata": {
    "collapsed": false,
    "deletable": true,
    "editable": true
   },
   "outputs": [],
   "source": [
    "# Convert int to one hot\n",
    "def dense_to_one_hot(labels_dense, num_classes=10):\n",
    "    labels_dense = np.array(labels_dense)\n",
    "    num_labels = labels_dense.shape[0]\n",
    "    index_offset = np.arange(num_labels) * num_classes\n",
    "    labels_one_hot = np.zeros((num_labels, num_classes))\n",
    "    labels_one_hot.flat[index_offset + labels_dense.ravel()] = 1\n",
    "    return labels_one_hot"
   ]
  },
  {
   "cell_type": "code",
   "execution_count": null,
   "metadata": {
    "collapsed": false,
    "deletable": true,
    "editable": true
   },
   "outputs": [],
   "source": [
    "def preprocess_data(df):\n",
    "    df = df.astype(np.float32)\n",
    "    df = df.values.tolist()\n",
    "    df = np.array(df)\n",
    "    df = (df-255.0/2)/255.0\n",
    "    return df"
   ]
  },
  {
   "cell_type": "code",
   "execution_count": null,
   "metadata": {
    "collapsed": false,
    "deletable": true,
    "editable": true
   },
   "outputs": [],
   "source": [
    "# Model network\n",
    "def neural_network(data):\n",
    "    hidden_layer_1 = {'weights': tf.Variable(tf.random_normal([784, n_nodes_hl1])),\n",
    "                      'biases': tf.Variable(tf.random_normal([n_nodes_hl1]))}\n",
    "    \n",
    "    hidden_layer_2 = {'weights': tf.Variable(tf.random_normal([n_nodes_hl1, n_nodes_hl2])),\n",
    "                      'biases': tf.Variable(tf.random_normal([n_nodes_hl2]))}\n",
    "    \n",
    "    hidden_layer_3 = {'weights': tf.Variable(tf.random_normal([n_nodes_hl2, n_nodes_hl3])),\n",
    "                      'biases': tf.Variable(tf.random_normal([n_nodes_hl3]))}\n",
    "    \n",
    "    output_layer = {'weights': tf.Variable(tf.random_normal([n_nodes_hl3, num_classes])),\n",
    "                      'biases': tf.Variable(tf.random_normal([num_classes]))}\n",
    "    \n",
    "    l1 = tf.add(tf.matmul(data, hidden_layer_1['weights']), hidden_layer_1['biases'])\n",
    "    l1 = tf.nn.relu(l1)\n",
    "    \n",
    "    l2 = tf.add(tf.matmul(l1, hidden_layer_2['weights']), hidden_layer_2['biases'])\n",
    "    l2 = tf.nn.relu(l2)\n",
    "    \n",
    "    l3 = tf.add(tf.matmul(l2, hidden_layer_3['weights']), hidden_layer_3['biases'])\n",
    "    l3 = tf.nn.relu(l3)\n",
    "    \n",
    "    output = tf.add(tf.matmul(l3, output_layer['weights']), output_layer['biases'])\n",
    "    \n",
    "    return output"
   ]
  },
  {
   "cell_type": "code",
   "execution_count": null,
   "metadata": {
    "collapsed": true
   },
   "outputs": [],
   "source": [
    "# Read in the training data\n",
    "full_training = pd.read_csv(train_path)\n",
    "testing = pd.read_csv(test_path)\n",
    "\n",
    "# Preprocess data\n",
    "labels = full_training['label'].values.tolist()\n",
    "labels = dense_to_one_hot(labels, num_classes)\n",
    "full_training = full_training.drop('label', axis=1)\n",
    "Xtrain, Xvalid, ytrain, yvalid = train_test_split(full_training, labels, test_size=0.1)\n",
    "\n",
    "Xtrain = preprocess_data(Xtrain)\n",
    "Xvalid = preprocess_data(Xvalid)\n",
    "Xtest = preprocess_data(testing)"
   ]
  },
  {
   "cell_type": "code",
   "execution_count": null,
   "metadata": {
    "collapsed": false,
    "deletable": true,
    "editable": true
   },
   "outputs": [],
   "source": [
    "# Create graph and add cost and optimization\n",
    "prediction = neural_network(x)\n",
    "cost = tf.reduce_mean(tf.nn.softmax_cross_entropy_with_logits(prediction, y))\n",
    "optimizer = tf.train.AdamOptimizer(LEARNING_RATE).minimize(cost)"
   ]
  },
  {
   "cell_type": "code",
   "execution_count": null,
   "metadata": {
    "collapsed": false,
    "deletable": true,
    "editable": true
   },
   "outputs": [],
   "source": [
    "# Train model with select samples\n",
    "with tf.Session() as sess:\n",
    "    sess.run(tf.global_variables_initializer())\n",
    "    for epoch in range(hm_epoch):\n",
    "        epoch_loss = 0\n",
    "        for i in range(int(Xtrain.shape[0]/batch_size)):\n",
    "            start = 0 + i*batch_size\n",
    "            end = start + batch_size\n",
    "            _, c = sess.run([optimizer, cost], feed_dict={x: Xtrain[start:end,:], y: ytrain[start:end,:]})\n",
    "            epoch_loss += c\n",
    "        print('Epoch', int(epoch+1), 'completed out of', hm_epoch, 'Loss:', epoch_loss)\n",
    "        \n",
    "    # Calculate accuracy on cross-validation\n",
    "    correct = tf.equal(tf.argmax(prediction, 1), tf.argmax(y, 1))\n",
    "    accuracy = tf.reduce_mean(tf.cast(correct, 'float'))\n",
    "    print('Accuracy:', accuracy.eval({x: Xvalid, y: yvalid}))\n",
    "    \n",
    "    # Create submission predictions and write to .csv\n",
    "    final_output_predictions = tf.argmax(prediction, 1)\n",
    "    final_labels = final_output_predictions.eval({x: Xtest})\n",
    "    indexes = np.array(range(1,28001))\n",
    "    submission_matrix = np.column_stack((indexes, final_labels))\n",
    "    np.savetxt('submission.csv', submission_matrix, delimiter=',')"
   ]
  }
 ],
 "metadata": {
  "kernelspec": {
   "display_name": "Python 3",
   "language": "python",
   "name": "python3"
  },
  "language_info": {
   "codemirror_mode": {
    "name": "ipython",
    "version": 3
   },
   "file_extension": ".py",
   "mimetype": "text/x-python",
   "name": "python",
   "nbconvert_exporter": "python",
   "pygments_lexer": "ipython3",
   "version": "3.5.2"
  }
 },
 "nbformat": 4,
 "nbformat_minor": 2
}
